{
 "cells": [
  {
   "attachments": {},
   "cell_type": "markdown",
   "metadata": {},
   "source": [
    "Testing few functions of the UTS Website using Selenium Webdriver"
   ]
  },
  {
   "attachments": {},
   "cell_type": "markdown",
   "metadata": {},
   "source": [
    "Importing required packages"
   ]
  },
  {
   "cell_type": "code",
   "execution_count": 178,
   "metadata": {},
   "outputs": [],
   "source": [
    "from selenium import webdriver\n",
    "from selenium.webdriver.common.keys import Keys\n",
    "import time\n"
   ]
  },
  {
   "cell_type": "code",
   "execution_count": 179,
   "metadata": {},
   "outputs": [
    {
     "name": "stderr",
     "output_type": "stream",
     "text": [
      "C:\\Users\\24544520\\AppData\\Local\\Temp\\ipykernel_7600\\3529304724.py:1: DeprecationWarning: executable_path has been deprecated, please pass in a Service object\n",
      "  driver = webdriver.Chrome('./chromedriver')\n"
     ]
    }
   ],
   "source": [
    "driver = webdriver.Chrome('./chromedriver')\n",
    "driver.maximize_window()\n",
    "driver.get(\"https://www.uts.edu.au/\")"
   ]
  },
  {
   "attachments": {},
   "cell_type": "markdown",
   "metadata": {},
   "source": [
    "Checking the Website Title"
   ]
  },
  {
   "cell_type": "code",
   "execution_count": 180,
   "metadata": {},
   "outputs": [
    {
     "name": "stdout",
     "output_type": "stream",
     "text": [
      "Home | University of Technology Sydney\n"
     ]
    }
   ],
   "source": [
    "print(driver.title)"
   ]
  },
  {
   "attachments": {},
   "cell_type": "markdown",
   "metadata": {},
   "source": [
    "Checking the Search Bar of the UTS Homepage website"
   ]
  },
  {
   "cell_type": "code",
   "execution_count": 181,
   "metadata": {},
   "outputs": [
    {
     "name": "stdout",
     "output_type": "stream",
     "text": [
      "https://www.uts.edu.au/search/scholarships%2Bat%2BUTS\n"
     ]
    }
   ],
   "source": [
    "search_bar = driver.find_element(by=\"id\", value=\"site-search-toggle\")\n",
    "search_bar.send_keys(\" scholarships at UTS\")\n",
    "search_bar.send_keys(Keys.RETURN)\n",
    "search_action = driver.find_element(by=\"id\", value=\"edit-search-keys\")\n",
    "search_action.send_keys(Keys.ENTER)\n",
    "print(driver.current_url)"
   ]
  },
  {
   "attachments": {},
   "cell_type": "markdown",
   "metadata": {},
   "source": [
    "Booking a UTS Library Room"
   ]
  },
  {
   "cell_type": "code",
   "execution_count": 182,
   "metadata": {},
   "outputs": [],
   "source": [
    "driver.back()\n",
    "library_book = driver.find_element(by=\"xpath\", value='//*[@title=\"UTS Library - Book a room\"]').click()"
   ]
  },
  {
   "cell_type": "code",
   "execution_count": 183,
   "metadata": {},
   "outputs": [],
   "source": [
    "library_sign_in = driver.find_element(by=\"id\", value=\"input27\")\n",
    "library_sign_in.send_keys(\"maliha.homaira@uts.edu.au\")\n",
    "library_sign_in.send_keys(Keys.RETURN)\n",
    "library_sign_in_proceed1 = driver.find_element(by=\"xpath\", value='/html/body/div[2]/main/div[2]/div/div/div[2]/form/div[2]/input').submit()\n",
    "time.sleep(5)"
   ]
  },
  {
   "attachments": {},
   "cell_type": "markdown",
   "metadata": {},
   "source": [
    "Searching for a research expert from the UTS website"
   ]
  },
  {
   "cell_type": "code",
   "execution_count": 184,
   "metadata": {},
   "outputs": [],
   "source": [
    "driver.get(\"https://www.uts.edu.au/\")\n",
    "research_search = driver.find_element(by=\"xpath\", value=\"/html/body/div[1]/header/div[4]/nav/ul/li[3]/span\").click()\n",
    "research_search = driver.find_element(by=\"xpath\", value=\"/html/body/div[1]/div[3]/article/dev/ul/li[1]/a\").click()\n",
    "research_search = driver.find_element(by=\"xpath\", value=\"/html/body/div[1]/div[3]/article/div[1]/div/div/div[2]/div/div/div/a\").click()\n",
    "research_search = driver.find_element(by=\"xpath\", value=\"/html/body/div[1]/div[3]/article/div[2]/div[1]/div/div/div/div[2]/div/div/div[1]/a\").click()\n",
    "research_search = driver.find_element(by=\"xpath\", value=\"/html/body/div/div/main/div/div/div/div/div[1]/div[1]/div/input\")\n",
    "research_search.send_keys(\"Amara Atif\")\n",
    "research_search.send_keys(Keys.ENTER)"
   ]
  },
  {
   "cell_type": "code",
   "execution_count": 185,
   "metadata": {},
   "outputs": [],
   "source": [
    "time.sleep(7)\n",
    "driver.close()"
   ]
  },
  {
   "cell_type": "markdown",
   "metadata": {},
   "source": []
  }
 ],
 "metadata": {
  "kernelspec": {
   "display_name": "base",
   "language": "python",
   "name": "python3"
  },
  "language_info": {
   "codemirror_mode": {
    "name": "ipython",
    "version": 3
   },
   "file_extension": ".py",
   "mimetype": "text/x-python",
   "name": "python",
   "nbconvert_exporter": "python",
   "pygments_lexer": "ipython3",
   "version": "3.9.13"
  },
  "orig_nbformat": 4,
  "vscode": {
   "interpreter": {
    "hash": "b750c5671c736055d471068fe0640924974c68288c127eb6ae58796a09997845"
   }
  }
 },
 "nbformat": 4,
 "nbformat_minor": 2
}
